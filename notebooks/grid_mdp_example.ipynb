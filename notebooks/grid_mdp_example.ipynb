{
 "cells": [
  {
   "cell_type": "code",
   "execution_count": 1,
   "metadata": {},
   "outputs": [],
   "source": [
    "from maMDP.agents import Agent\n",
    "from maMDP.mdp import SquareGridMDP, MDP\n",
    "from maMDP.environments import Environment\n",
    "from maMDP.algorithms.action_selection import SoftmaxActionSelector\n",
    "import numpy as np\n",
    "import matplotlib.pyplot as plt"
   ]
  },
  {
   "cell_type": "markdown",
   "metadata": {},
   "source": [
    "## Creating an environment\n",
    "\n",
    "The `Environment` class provides a way for any number of agents to act with a Markov Decision Problem (MDP).\n",
    "\n",
    "The first thing we need to do is define an agent, using the `Agent` class. When we define the agent, we need to specify its name, which is used to identify it later on.\n",
    "2. \n",
    "\n",
    "Here we create an agent called `testAgent`."
   ]
  },
  {
   "cell_type": "code",
   "execution_count": 2,
   "metadata": {},
   "outputs": [],
   "source": [
    "new_agent = Agent('testAgent')"
   ]
  },
  {
   "cell_type": "markdown",
   "metadata": {},
   "source": [
    "We also need to define the MDP, which is done using the `MDP` class. An MDP here is defined by its transition function, which is implemented as a Numpy array with the shape `n states, n actions, n states` - this represents the result of taking a given action in a given state and can be either deterministic (i.e. taking a given action in a given state leads to a single state with 100% probability) or probabilistic (i.e. taking a given action in a given state can lead to multiple other states with different probabilities). \n",
    "\n",
    "The `MDP` object also contains information about the features associated with each state, represented by a Numpy array with the shape `n features, n states`. The values of this array are arbitrary and will depend on the particular features being implemented.\n",
    "\n",
    "### Standard MDPs\n",
    "\n",
    "Two MDPs are implemented for ease of use - square and hexagonal grids. These allow a grid of a certain shape to be specified easily, without having to specificy the transition function manually.\n",
    "\n",
    "Here we'll use a square grid, using the `SquareGridMDP` class. We'll give it a shape of 15 x 15 cells, and place the first feature in one corner of the grid."
   ]
  },
  {
   "cell_type": "code",
   "execution_count": 3,
   "metadata": {},
   "outputs": [],
   "source": [
    "grid_shape = (15, 15)\n",
    "\n",
    "# Create an array representing the two features\n",
    "features = np.zeros((2, np.product(grid_shape)))\n",
    "\n",
    "# The first feature is placed in the bottom right corner of the grid. The second feature isn't present.\n",
    "features[0, 220:] = 1\n",
    "features[0, 205:210] = 1\n",
    "\n",
    "new_mdp = SquareGridMDP(shape=grid_shape, features=features)"
   ]
  },
  {
   "cell_type": "markdown",
   "metadata": {},
   "source": [
    "Finally, we wrap our agent and our MDP together using the `Environment` class. \n",
    "\n",
    "When creating the object, the first argument we pass is the `MDP` object we just created. The second argument is a dictionary which specifies the agents we want to use and their starting positions. Keys represent `Agent` objects, while values represent three values relating to how the agent interacts with the MDP, supplies as a 3-tuple. These are:\n",
    "1. The starting position of the agent (representing the state we want to start it in).\n",
    "2. Its reward function for the MDP it's going to be interacting with. This is specified as a list with an entry corresponding to each feature in the MDP, plus an entry for each agent (including itself). This means that the agent can value not only the static features in the environment, but also the agents in the environment. The higher the number, the greater the value of that feature.\n",
    "3. Which features it consumes when it encounters them - i.e. if a state contains a feature, does it disappear from that state if the agent enters it.\n",
    "\n",
    "For this example, we're going to place our single agent (`new_agent`) in the environment, starting it at state #2. Its reward function places a weight of `1` on the first feature in the environment, `0` on the second feature and a value of `0` for the only agent in the environment (itself). It doesn't consume any features, as indicated by an empty list (`[]`)."
   ]
  },
  {
   "cell_type": "code",
   "execution_count": 4,
   "metadata": {},
   "outputs": [],
   "source": [
    "new_env = Environment(new_mdp, {new_agent: (2, [1, 0, 0], [])})"
   ]
  },
  {
   "cell_type": "markdown",
   "metadata": {},
   "source": [
    "## Plotting the environment\n",
    "\n",
    "The `Environment` class implements methods for plotting the environment, which we can use to see what we've created.\n",
    "\n",
    "> **_Note:_**  When calling the plotting methods of the `Environment` class, this in turn calls methods implemented in the `MDP` class. Plotting will differ depending on the type of MDP, and appropriate methods will need to be implemented for any custom MDPs."
   ]
  },
  {
   "cell_type": "code",
   "execution_count": 5,
   "metadata": {},
   "outputs": [
    {
     "data": {
      "text/plain": [
       "<matplotlib.axes._subplots.AxesSubplot at 0x14dac369310>"
      ]
     },
     "execution_count": 5,
     "metadata": {},
     "output_type": "execute_result"
    },
    {
     "data": {
      "image/png": "[encoded data removed]",
      "text/plain": [
       "<Figure size 1080x360 with 1 Axes>"
      ]
     },
     "metadata": {
      "needs_background": "light"
     },
     "output_type": "display_data"
    }
   ],
   "source": [
    "new_env.plot(mdp_plotting_kwargs={'figsize': (15, 5)}, agent_plotting_kwargs={'s': 200}, agent_colours={'testAgent': '#bd4848'})"
   ]
  },
  {
   "cell_type": "markdown",
   "metadata": {},
   "source": [
    "We can see our agent has appeared in the top left of the grid, while our feature is present in the bottom right corner."
   ]
  },
  {
   "cell_type": "markdown",
   "metadata": {},
   "source": [
    "## Interacting with the MDP\n",
    "\n",
    "Each agent is able to interact with the associated MDP. Generally, we will want to figure out the best action to take in the current state, and then take that action to move the agent to the subsequent state.\n",
    "\n",
    "First, we need to figure out the best state to move to next. To achieve this, the `Agent` class has a `.fit()` method, which will determine the best action from the current state. This happens in two steps:\n",
    "\n",
    "### Calculating action values\n",
    "First, action values are calculated. By default, the agent will use value iteration to solve the MDP and calculate Q values for each action. This can be changed by changing the value passed to the `algorithm` argument when creating the `Agent`.\n",
    "\n",
    "### Selecting an action\n",
    "Given the calculated Q values, actions can then be chosen using any decision rule. By default, the agent will use the max rule - that is, taking the action with the highest Q value. This is set by passing a different action selector to the `action_selector` argument when creating the `Agent`. \n",
    "\n",
    "To fit the agent, rather than calling the agent's own `.fit()` method, we can use the `.fit()` method of the environment and specify the agent we wish to fit."
   ]
  },
  {
   "cell_type": "code",
   "execution_count": 6,
   "metadata": {},
   "outputs": [],
   "source": [
    "new_env.fit('testAgent')"
   ]
  },
  {
   "cell_type": "code",
   "execution_count": 7,
   "metadata": {},
   "outputs": [
    {
     "data": {
      "text/plain": [
       "array([1.21576652, 1.21576652, 0.98477087, 0.        ])"
      ]
     },
     "execution_count": 7,
     "metadata": {},
     "output_type": "execute_result"
    }
   ],
   "source": [
    "new_env.agents['testAgent'].algorithm.q_values[2]"
   ]
  },
  {
   "cell_type": "code",
   "execution_count": 8,
   "metadata": {},
   "outputs": [
    {
     "data": {
      "text/plain": [
       "array([0, 0, 0, 0, 0, 0, 0, 0, 0, 0, 1, 1, 1, 1, 1, 0, 0, 0, 0, 0, 0, 0,\n",
       "       0, 0, 0, 1, 1, 1, 1, 1, 0, 0, 0, 0, 0, 0, 0, 0, 0, 0, 1, 1, 1, 1,\n",
       "       1, 0, 0, 0, 0, 0, 0, 0, 0, 0, 0, 1, 1, 1, 1, 1, 0, 0, 0, 0, 0, 0,\n",
       "       0, 0, 0, 0, 1, 1, 1, 1, 1, 0, 0, 0, 0, 0, 0, 0, 0, 0, 0, 1, 1, 1,\n",
       "       1, 1, 0, 0, 0, 0, 0, 0, 0, 0, 0, 0, 1, 1, 1, 1, 1, 0, 0, 0, 0, 0,\n",
       "       0, 0, 0, 0, 0, 1, 1, 1, 1, 1, 0, 0, 0, 0, 0, 0, 0, 0, 0, 0, 1, 1,\n",
       "       1, 1, 1, 0, 0, 0, 0, 0, 0, 0, 0, 0, 0, 1, 1, 1, 1, 1, 0, 0, 0, 0,\n",
       "       0, 0, 0, 0, 0, 0, 1, 1, 1, 1, 1, 0, 0, 0, 0, 0, 0, 0, 0, 0, 0, 1,\n",
       "       1, 1, 1, 1, 0, 0, 0, 0, 0, 0, 0, 0, 0, 0, 1, 1, 1, 1, 1, 0, 0, 0,\n",
       "       0, 0, 0, 0, 0, 0, 0, 0, 0, 0, 0, 1, 0, 0, 0, 0, 0, 0, 0, 0, 0, 0,\n",
       "       0, 0, 0, 0, 2])"
      ]
     },
     "execution_count": 8,
     "metadata": {},
     "output_type": "execute_result"
    }
   ],
   "source": [
    "new_env.get_agent_pi('testAgent')"
   ]
  },
  {
   "cell_type": "markdown",
   "metadata": {},
   "source": [
    "Once we've figured out the best action to take, we can move the agent. This can be done using the `.step()` method of the environment, again specifying the agent we want to move."
   ]
  },
  {
   "cell_type": "code",
   "execution_count": 9,
   "metadata": {},
   "outputs": [
    {
     "data": {
      "text/plain": [
       "<matplotlib.axes._subplots.AxesSubplot at 0x14dadac1580>"
      ]
     },
     "execution_count": 9,
     "metadata": {},
     "output_type": "execute_result"
    },
    {
     "data": {
      "image/png": "[encoded data removed]",
      "text/plain": [
       "<Figure size 1080x360 with 1 Axes>"
      ]
     },
     "metadata": {
      "needs_background": "light"
     },
     "output_type": "display_data"
    }
   ],
   "source": [
    "new_env.step('testAgent')\n",
    "new_env.plot(mdp_plotting_kwargs={'figsize': (15, 5)}, agent_plotting_kwargs={'s': 200}, agent_colours={'testAgent': '#bd4848'})"
   ]
  },
  {
   "cell_type": "markdown",
   "metadata": {},
   "source": [
    "We can see that the agent has now moved down one cell.\n",
    "\n",
    "Often we will want to move more than one step at a time. Assuming the MDP has been solved (i.e. we have Q values for every action in every state), we can use the `.step_multi()` method to achieve this by supplying the agent we wish to move and the number of steps we want to take."
   ]
  },
  {
   "cell_type": "code",
   "execution_count": 10,
   "metadata": {},
   "outputs": [
    {
     "data": {
      "text/plain": [
       "<matplotlib.axes._subplots.AxesSubplot at 0x14dae2e1490>"
      ]
     },
     "execution_count": 10,
     "metadata": {},
     "output_type": "execute_result"
    },
    {
     "data": {
      "image/png": "[encoded data removed]",
      "text/plain": [
       "<Figure size 1080x360 with 1 Axes>"
      ]
     },
     "metadata": {
      "needs_background": "light"
     },
     "output_type": "display_data"
    }
   ],
   "source": [
    "new_env.step_multi('testAgent', 25)\n",
    "new_env.plot(mdp_plotting_kwargs={'figsize': (15, 5)}, agent_plotting_kwargs={'s': 200}, agent_colours={'testAgent': '#bd4848'})"
   ]
  },
  {
   "cell_type": "markdown",
   "metadata": {},
   "source": [
    "Our agent has now moved to the bottom right."
   ]
  },
  {
   "cell_type": "markdown",
   "metadata": {},
   "source": [
    "## Plotting trajectories\n",
    "\n",
    "It's often useful to be able to see the states the agent has visited during its travels.\n",
    "\n",
    "First, we can get the agent's history of states visited using the `.get_agent_position_history()` method. We can plot this using the `.plot_trajectory()` method (assuming the `MDP` being used has methods to plot trajectories implemented)."
   ]
  },
  {
   "cell_type": "code",
   "execution_count": 11,
   "metadata": {},
   "outputs": [
    {
     "data": {
      "image/png": "[encoded data removed]",
      "text/plain": [
       "<Figure size 1080x360 with 1 Axes>"
      ]
     },
     "metadata": {
      "needs_background": "light"
     },
     "output_type": "display_data"
    }
   ],
   "source": [
    "trajectory = new_env.get_agent_position_history('testAgent')\n",
    "\n",
    "# First plot the environment\n",
    "ax = new_env.plot(mdp_plotting_kwargs={'figsize': (15, 5)}, agent_plotting_kwargs={'s': 300})\n",
    "\n",
    "# Add the trajectory\n",
    "new_env.plot_trajectory(trajectory, ax)"
   ]
  },
  {
   "cell_type": "markdown",
   "metadata": {},
   "source": [
    "## Plotting state values\n",
    "\n",
    "Algorithms used to solve the MDP will typically estimate the value function for the MDP, and we can also plot this using the `.plot_state_values()` method."
   ]
  },
  {
   "cell_type": "code",
   "execution_count": 12,
   "metadata": {},
   "outputs": [
    {
     "data": {
      "image/png": "[encoded data removed]",
      "text/plain": [
       "<Figure size 1080x360 with 1 Axes>"
      ]
     },
     "metadata": {
      "needs_background": "light"
     },
     "output_type": "display_data"
    }
   ],
   "source": [
    "ax = new_env.plot_state_values('testAgent', figsize=(15, 5))\n",
    "new_env.plot_trajectory(trajectory, ax, colour='white')"
   ]
  },
  {
   "cell_type": "markdown",
   "metadata": {},
   "source": [
    "## Resetting the environment\n",
    "\n",
    "To reset the environment back to its starting state, we use the `.reset()` method. "
   ]
  },
  {
   "cell_type": "code",
   "execution_count": 13,
   "metadata": {},
   "outputs": [
    {
     "data": {
      "text/plain": [
       "<matplotlib.axes._subplots.AxesSubplot at 0x14dadb575e0>"
      ]
     },
     "execution_count": 13,
     "metadata": {},
     "output_type": "execute_result"
    },
    {
     "data": {
      "image/png": "[encoded data removed]",
      "text/plain": [
       "<Figure size 1080x360 with 1 Axes>"
      ]
     },
     "metadata": {
      "needs_background": "light"
     },
     "output_type": "display_data"
    }
   ],
   "source": [
    "new_env.reset()\n",
    "new_env.plot(mdp_plotting_kwargs={'figsize': (15, 5)}, agent_plotting_kwargs={'s': 200}, agent_colours={'testAgent': '#bd4848'})"
   ]
  },
  {
   "cell_type": "markdown",
   "metadata": {},
   "source": [
    "## Consuming features\n",
    "\n",
    "We can repeat this with an agent that consumes features as it comes across them.\n",
    "\n",
    "With the following specification, the agent will new consume the first feature."
   ]
  },
  {
   "cell_type": "code",
   "execution_count": 14,
   "metadata": {},
   "outputs": [],
   "source": [
    "new_agent = Agent('testAgent')\n",
    "new_mdp = SquareGridMDP(shape=grid_shape, features=features)\n",
    "new_env_consume = Environment(new_mdp, {new_agent: (2, [1, 0, 0], [0])})"
   ]
  },
  {
   "cell_type": "markdown",
   "metadata": {},
   "source": [
    "If we solve the MDP and move the agent around, we can see that the feature has disappeared from the states the agent has visited."
   ]
  },
  {
   "cell_type": "code",
   "execution_count": 15,
   "metadata": {},
   "outputs": [
    {
     "data": {
      "image/png": "[encoded data removed]",
      "text/plain": [
       "<Figure size 1080x360 with 1 Axes>"
      ]
     },
     "metadata": {
      "needs_background": "light"
     },
     "output_type": "display_data"
    }
   ],
   "source": [
    "new_env_consume.fit('testAgent')\n",
    "new_env_consume.step_multi('testAgent', 25)\n",
    "\n",
    "trajectory = new_env_consume.get_agent_position_history('testAgent')\n",
    "\n",
    "# First plot the environment\n",
    "ax = new_env_consume.plot(mdp_plotting_kwargs={'figsize': (15, 5)}, agent_plotting_kwargs={'s': 300})\n",
    "\n",
    "# Add the trajectory\n",
    "new_env_consume.plot_trajectory(trajectory, ax)"
   ]
  },
  {
   "cell_type": "markdown",
   "metadata": {},
   "source": [
    "We can also see how much of each feature the agent has consumed - this is useful for determining how much reward an agent has gained, for example."
   ]
  },
  {
   "cell_type": "code",
   "execution_count": 16,
   "metadata": {},
   "outputs": [
    {
     "data": {
      "text/plain": [
       "array([5., 0., 0.])"
      ]
     },
     "execution_count": 16,
     "metadata": {},
     "output_type": "execute_result"
    }
   ],
   "source": [
    "new_env_consume.agents['testAgent'].consumed"
   ]
  }
 ],
 "metadata": {
  "kernelspec": {
   "display_name": "mne",
   "language": "python",
   "name": "mne"
  },
  "language_info": {
   "codemirror_mode": {
    "name": "ipython",
    "version": 3
   },
   "file_extension": ".py",
   "mimetype": "text/x-python",
   "name": "python",
   "nbconvert_exporter": "python",
   "pygments_lexer": "ipython3",
   "version": "3.8.2"
  }
 },
 "nbformat": 4,
 "nbformat_minor": 4
}
