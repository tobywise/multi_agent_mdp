{
  "cells": [
    {
      "cell_type": "markdown",
      "source": [
        "# Interactive Monte Carlo Tree Search (MCTS)"
      ],
      "metadata": {}
    },
    {
      "cell_type": "code",
      "source": [
        "%load_ext autoreload\n",
        "%autoreload 2"
      ],
      "outputs": [],
      "execution_count": null,
      "metadata": {}
    },
    {
      "cell_type": "code",
      "source": [
        "from maMDP.agents import Agent\n",
        "from maMDP.mdp import SquareGridMDP, MDP\n",
        "from maMDP.environments import Environment\n",
        "from maMDP.algorithms.action_selection import SoftmaxActionSelector, MaxActionSelector\n",
        "from maMDP.algorithms.mcts import MCTS\n",
        "from maMDP.algorithms.dynamic_programming import ValueIteration\n",
        "import numpy as np\n",
        "import matplotlib.pyplot as plt"
      ],
      "outputs": [],
      "execution_count": 439,
      "metadata": {}
    },
    {
      "cell_type": "markdown",
      "source": [
        "## Create an environment\n",
        "\n",
        "Here we create an environment with two active agents.\n",
        "\n",
        "We can again use MCTS to determine best actions for our agent, but this time we can allow the MCTS algorithm to also account for the behaviour of other agents in the environments in its simulations. For example, in this example the second agent will eat the first one if they end up in the same state, so the first may want to account for the other agent's behaviour when planning to minimise the likelihood of being eaten. We can achieve this by setting the `interactive` argument to `True` when setting up the MCTS algorithm.\n",
        "\n",
        "To do this, we have to determine best actions for the other agent so that we can predict its behaviour and use this for the simulations used by MCTS. This is done using value iteration, which can be fairly computationally intensive as we have to do it on each step of the simulation, for as many iterations as we want to run. To speed this up, we can cache the results so that the simulated agent will reuse previously computed Q values for its current state. To do this, we set the `caching` argument to True.\n",
        "\n",
        "For the sake of quick demonstration, we'll set the number of iterations to a low number (30)."
      ],
      "metadata": {}
    },
    {
      "cell_type": "code",
      "source": [
        "new_agent1 = Agent('testAgent1', algorithm=MCTS, algorithm_kwargs={'interactive': False, 'n_iter': 100, 'caching': True})\n",
        "new_agent2 = Agent('testAgent2')\n",
        "\n",
        "grid_shape = (15, 15)\n",
        "features = np.zeros((3, np.product(grid_shape)))\n",
        "features[0, 220:] = 1\n",
        "features[0, 205:210] = 1\n",
        "\n",
        "features[1, np.random.randint(0, np.product(grid_shape), 30)] = 1\n",
        "\n",
        "for i in range(3, 8):\n",
        "    features[2, i*15:i*15+2] = 1\n",
        "\n",
        "\n",
        "new_mdp = SquareGridMDP(shape=grid_shape, features=features.copy())\n",
        "\n",
        "new_env = Environment(new_mdp, \n",
        "                      {\n",
        "                          new_agent1: (2, [0, 1, 0, 0, 0], [1]),\n",
        "                          new_agent2: (130, [0, 0, 1, 0.2, 0], [3])\n",
        "                      })"
      ],
      "outputs": [],
      "execution_count": 749,
      "metadata": {}
    },
    {
      "cell_type": "code",
      "source": [
        "new_env.plot(mdp_plotting_kwargs={'figsize': (15, 5)}, \n",
        "             agent_markers={'testAgent1': 'X', 'testAgent2': 'o'},\n",
        "             agent_colours={'testAgent1': 'black', 'testAgent2': 'red'},\n",
        "             agent_plotting_kwargs={'s': 200})"
      ],
      "outputs": [
        {
          "output_type": "execute_result",
          "execution_count": 750,
          "data": {
            "text/plain": "<matplotlib.axes._subplots.AxesSubplot at 0x198b9103280>"
          },
          "metadata": {}
        },
        {
          "output_type": "display_data",
          "data": {
            "image/png": "[encoded data removed]",
            "text/plain": "<Figure size 1080x360 with 1 Axes>"
          },
          "metadata": {
            "needs_background": "light"
          }
        }
      ],
      "execution_count": 750,
      "metadata": {}
    },
    {
      "cell_type": "markdown",
      "source": [
        "The agent values the blue feature shown in the bottom right corner."
      ],
      "metadata": {}
    },
    {
      "cell_type": "markdown",
      "source": [
        "## Run MCTS\n",
        "\n",
        "This will determine the best action from the current state, accounting for the other agent's actions.\n",
        "\n",
        "The first time we run this, it can be quite slow."
      ],
      "metadata": {}
    },
    {
      "cell_type": "code",
      "source": [
        "%time new_env.fit('testAgent1')"
      ],
      "outputs": [
        {
          "output_type": "stream",
          "name": "stdout",
          "text": [
            "Wall time: 3.99 ms\n"
          ]
        }
      ],
      "execution_count": 535,
      "metadata": {}
    },
    {
      "cell_type": "markdown",
      "source": [
        "However, thanks to the cachine procedure it will be faster in subsequent runs:"
      ],
      "metadata": {}
    },
    {
      "cell_type": "code",
      "source": [
        "%time new_env.fit('testAgent1')"
      ],
      "outputs": [
        {
          "output_type": "stream",
          "name": "stdout",
          "text": [
            "Wall time: 487 ms\n"
          ]
        }
      ],
      "execution_count": 409,
      "metadata": {}
    },
    {
      "cell_type": "code",
      "source": [
        "%time new_env.fit('testAgent1')"
      ],
      "outputs": [
        {
          "output_type": "stream",
          "name": "stdout",
          "text": [
            "Wall time: 233 ms\n"
          ]
        }
      ],
      "execution_count": 410,
      "metadata": {}
    },
    {
      "cell_type": "markdown",
      "source": [
        "## Run multiple steps\n",
        "\n",
        "Here, Agent 1 values the orange feature on the map. Agent 2 values the green feature most (with a weight of 1) and values Agent 1 less (with a weight of 0.2). \n",
        "\n",
        "By accounting for Agent 2 in its planning, Agent 1 will know not to stray into the green area."
      ],
      "metadata": {}
    },
    {
      "cell_type": "code",
      "source": [
        "new_agent1 = Agent('testAgent1', algorithm=MCTS, \n",
        "                   algorithm_kwargs={'interactive': True, \n",
        "                                     'n_iter': 1000, \n",
        "                                     'caching': True,\n",
        "                                     'C': 20})\n",
        "new_env = Environment(new_mdp, \n",
        "                      {\n",
        "                          new_agent1: (2, [0, 1, 0, 0, 0], [1]),\n",
        "                          new_agent2: (130, [0, 0, 1, 0.2, 0], [3])\n",
        "                      })\n",
        "\n",
        "new_env.reset()\n",
        "new_env.plot(mdp_plotting_kwargs={'figsize': (15, 5)}, \n",
        "             agent_markers={'testAgent1': 'X', 'testAgent2': 'o'},\n",
        "             agent_colours={'testAgent1': 'black', 'testAgent2': 'red'},\n",
        "             agent_plotting_kwargs={'s': 200})"
      ],
      "outputs": [
        {
          "output_type": "execute_result",
          "execution_count": 704,
          "data": {
            "text/plain": "<matplotlib.axes._subplots.AxesSubplot at 0x198bc46b520>"
          },
          "metadata": {}
        },
        {
          "output_type": "display_data",
          "data": {
            "image/png": "[encoded data removed]",
            "text/plain": "<Figure size 1080x360 with 1 Axes>"
          },
          "metadata": {
            "needs_background": "light"
          }
        }
      ],
      "execution_count": 704,
      "metadata": {}
    },
    {
      "cell_type": "code",
      "source": [
        "new_env.step_multi_interactive(n_steps=25, refit=True, progressbar=True)\n",
        "new_env.plot(mdp_plotting_kwargs={'figsize': (15, 5)}, \n",
        "             agent_markers={'testAgent1': 'X', 'testAgent2': 'o'},\n",
        "             agent_colours={'testAgent1': 'black', 'testAgent2': 'red'},\n",
        "             agent_plotting_kwargs={'s': 200})"
      ],
      "outputs": [
        {
          "output_type": "display_data",
          "data": {
            "text/html": "\n    <div>\n        <style>\n            /* Turns off some styling */\n            progress {\n                /* gets rid of default border in Firefox and Opera. */\n                border: none;\n                /* Needs to be in here for Safari polyfill so background images work as expected. */\n                background-size: auto;\n            }\n            .progress-bar-interrupted, .progress-bar-interrupted::-webkit-progress-bar {\n                background: #F44336;\n            }\n        </style>\n      <progress value='25' class='' max='25' style='width:300px; height:20px; vertical-align: middle;'></progress>\n      100.00% [25/25 01:01<00:00]\n    </div>\n    ",
            "text/plain": "<IPython.core.display.HTML object>"
          },
          "metadata": {}
        },
        {
          "output_type": "stream",
          "name": "stderr",
          "text": [
            "C:\\Users\\tobyw\\OneDrive-Caltech\\maMDP\\maMDP\\algorithms\\action_selection.py:75: RuntimeWarning: Mean of empty slice\n",
            "  nan_states = np.isnan(np.nanmean(q_values, axis=1))\n",
            "C:\\Users\\tobyw\\OneDrive-Caltech\\maMDP\\maMDP\\algorithms\\action_selection.py:39: RuntimeWarning: Mean of empty slice\n",
            "  nan_states = np.isnan(np.nanmean(q_values, axis=1))\n"
          ]
        },
        {
          "output_type": "execute_result",
          "execution_count": 705,
          "data": {
            "text/plain": "<matplotlib.axes._subplots.AxesSubplot at 0x198bc6a2310>"
          },
          "metadata": {}
        },
        {
          "output_type": "display_data",
          "data": {
            "image/png": "[encoded data removed]",
            "text/plain": "<Figure size 1080x360 with 1 Axes>"
          },
          "metadata": {
            "needs_background": "light"
          }
        }
      ],
      "execution_count": 705,
      "metadata": {}
    },
    {
      "cell_type": "code",
      "source": [
        "trajectory = new_env.get_agent_position_history('testAgent1')\n",
        "new_env.plot(mdp_plotting_kwargs={'figsize': (15, 5)}, \n",
        "             agent_markers={'testAgent1': 'X', 'testAgent2': 'o'},\n",
        "             agent_colours={'testAgent1': 'black', 'testAgent2': 'red'},\n",
        "             agent_plotting_kwargs={'s': 200})\n",
        "new_env.plot_trajectory(trajectory, ax)"
      ],
      "outputs": [
        {
          "output_type": "display_data",
          "data": {
            "image/png": "[encoded data removed]",
            "text/plain": "<Figure size 1080x360 with 1 Axes>"
          },
          "metadata": {
            "needs_background": "light"
          }
        }
      ],
      "execution_count": 708,
      "metadata": {}
    },
    {
      "cell_type": "markdown",
      "source": [
        "## Non-interactive"
      ],
      "metadata": {}
    },
    {
      "cell_type": "code",
      "source": [
        "new_agent1 = Agent('testAgent1', algorithm=MCTS, \n",
        "                   algorithm_kwargs={'interactive': False, \n",
        "                                     'n_iter': 1000, \n",
        "                                     'caching': True,\n",
        "                                     'C': 20})\n",
        "new_mdp = SquareGridMDP(shape=grid_shape, features=features.copy())\n",
        "new_env = Environment(new_mdp, \n",
        "                      {\n",
        "                          new_agent1: (2, [0, 1, 0, 0, 0], [1]),\n",
        "                          new_agent2: (130, [0, 0, 1, 0.2, 0], [3])\n",
        "                      })\n",
        "\n",
        "new_env.reset()\n",
        "new_env.plot(mdp_plotting_kwargs={'figsize': (15, 5)}, \n",
        "             agent_markers={'testAgent1': 'X', 'testAgent2': 'o'},\n",
        "             agent_colours={'testAgent1': 'black', 'testAgent2': 'red'},\n",
        "             agent_plotting_kwargs={'s': 200})"
      ],
      "outputs": [
        {
          "output_type": "execute_result",
          "execution_count": 753,
          "data": {
            "text/plain": "<matplotlib.axes._subplots.AxesSubplot at 0x198bab109d0>"
          },
          "metadata": {}
        },
        {
          "output_type": "display_data",
          "data": {
            "image/png": "[encoded data removed]",
            "text/plain": "<Figure size 1080x360 with 1 Axes>"
          },
          "metadata": {
            "needs_background": "light"
          }
        }
      ],
      "execution_count": 753,
      "metadata": {}
    },
    {
      "cell_type": "code",
      "source": [
        "new_env.step_multi_interactive(n_steps=25, refit=True, progressbar=True)\n",
        "new_env.plot(mdp_plotting_kwargs={'figsize': (15, 5)}, \n",
        "             agent_markers={'testAgent1': 'X', 'testAgent2': 'o'},\n",
        "             agent_colours={'testAgent1': 'black', 'testAgent2': 'red'},\n",
        "             agent_plotting_kwargs={'s': 200})"
      ],
      "outputs": [
        {
          "output_type": "display_data",
          "data": {
            "text/html": "\n    <div>\n        <style>\n            /* Turns off some styling */\n            progress {\n                /* gets rid of default border in Firefox and Opera. */\n                border: none;\n                /* Needs to be in here for Safari polyfill so background images work as expected. */\n                background-size: auto;\n            }\n            .progress-bar-interrupted, .progress-bar-interrupted::-webkit-progress-bar {\n                background: #F44336;\n            }\n        </style>\n      <progress value='25' class='' max='25' style='width:300px; height:20px; vertical-align: middle;'></progress>\n      100.00% [25/25 00:20<00:00]\n    </div>\n    ",
            "text/plain": "<IPython.core.display.HTML object>"
          },
          "metadata": {}
        }
      ],
      "execution_count": 752,
      "metadata": {}
    },
    {
      "cell_type": "code",
      "source": [
        "trajectory = new_env.get_agent_position_history('testAgent1')\n",
        "new_env.plot(mdp_plotting_kwargs={'figsize': (15, 5)}, \n",
        "             agent_markers={'testAgent1': 'X', 'testAgent2': 'o'},\n",
        "             agent_colours={'testAgent1': 'black', 'testAgent2': 'red'},\n",
        "             agent_plotting_kwargs={'s': 200})\n",
        "new_env.plot_trajectory(trajectory, ax)"
      ],
      "outputs": [
        {
          "output_type": "display_data",
          "data": {
            "image/png": "[encoded data removed]",
            "text/plain": "<Figure size 1080x360 with 1 Axes>"
          },
          "metadata": {
            "needs_background": "light"
          }
        }
      ],
      "execution_count": 754,
      "metadata": {}
    }
  ],
  "metadata": {
    "kernelspec": {
      "display_name": "mne",
      "language": "python",
      "name": "mne"
    },
    "language_info": {
      "codemirror_mode": {
        "name": "ipython",
        "version": 3
      },
      "file_extension": ".py",
      "mimetype": "text/x-python",
      "name": "python",
      "nbconvert_exporter": "python",
      "pygments_lexer": "ipython3",
      "version": "3.8.2"
    },
    "nteract": {
      "version": "0.28.0"
    }
  },
  "nbformat": 4,
  "nbformat_minor": 4
}